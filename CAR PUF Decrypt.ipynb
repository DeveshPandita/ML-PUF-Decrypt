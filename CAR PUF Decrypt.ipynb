{
 "cells": [
  {
   "cell_type": "code",
   "execution_count": 3,
   "metadata": {},
   "outputs": [
    {
     "name": "stderr",
     "output_type": "stream",
     "text": [
      "c:\\Python311\\Lib\\site-packages\\sklearn\\utils\\_param_validation.py:594: FutureWarning: Passing an int for a boolean parameter is deprecated in version 1.2 and won't be supported anymore in version 1.4.\n",
      "  warnings.warn(\n"
     ]
    },
    {
     "name": "stdout",
     "output_type": "stream",
     "text": [
      "Training Accuracy: 0.9992\n",
      "Testing Accuracy: 0.9933\n"
     ]
    }
   ],
   "source": [
    "import numpy as np\n",
    "from sklearn.svm import LinearSVC\n",
    "from sklearn.metrics import accuracy_score\n",
    "\n",
    "def load_data():\n",
    "\n",
    "    # Load training data from train.dat\n",
    "    train_data = np.loadtxt('train.dat')\n",
    "\n",
    "    # Load test data from test.dat\n",
    "    test_data = np.loadtxt('test.dat')\n",
    "\n",
    "    return train_data, test_data\n",
    "def classify_train_data(train_data):\n",
    "    \n",
    "    x_train = train_data[:, :-1]  # Select all rows and first 32 columns as x_train\n",
    "    y_train = train_data[:, -1]   # Select all rows and last column as y_train\n",
    "    \n",
    "    return x_train, y_train\n",
    "def classify_test_data(test_data):\n",
    "    \n",
    "    x_test = test_data[:, :-1]  # Select all rows and first 32 columns as x_train\n",
    "    y_test = test_data[:, -1]   # Select all rows and last column as y_train\n",
    "    \n",
    "    return x_test, y_test\n",
    "train_data, test_data = load_data()\n",
    "X_train, y_train = classify_train_data(train_data)\n",
    "X_test, y_test = classify_test_data(test_data)\n",
    "# print(X_test.shape)\n",
    "def get_x_vector(row):\n",
    "    row_d = 1 - 2 * row  # Compute row_d values directly using array operations\n",
    "    x_vector = np.cumprod(row_d)\n",
    "    return x_vector  # Convert NumPy array to a Python list\n",
    "\n",
    "# def get_final_vector(x_vector):\n",
    "#     x_array = np.array(x_vector)\n",
    "#     final_vector = np.concatenate([x_array, np.outer(x_array, x_array)[np.triu_indices(len(x_vector))]])\n",
    "\n",
    "#     return final_vector.tolist()  # Convert NumPy array to a Python list\n",
    "\n",
    "def get_final_vector(x_vector):\n",
    "    outer_product = np.outer(x_vector, x_vector)\n",
    "    # Get the indices of the upper triangle without including the diagonal\n",
    "    upper_triangle_indices = np.triu_indices(len(x_vector), k=1)\n",
    "    # Extract the upper triangle excluding the diagonal from the outer product\n",
    "    final_vector = outer_product[upper_triangle_indices]\n",
    "    return np.concatenate([x_vector, final_vector])\n",
    "# [-1, -1, -1, 1, 1, 1, -1, -1, -1, -1, -1, 1, -1, -1, 1, 1, 1, -1, 1, -1, -1, -1, -1, 1, -1, 1, 1, 1, -1, -1, 1, -1]\n",
    "# [-1, -1, -1, 1, 1, 1, -1, -1, -1, -1, -1, 1, -1, -1, 1, 1, 1, -1, 1, -1, -1, -1, -1, 1, -1, 1, 1, 1, -1, -1, 1, -1, 1, 1, -1, -1, -1, 1, 1, 1, 1, 1, -1, 1, 1, -1, -1, -1, 1, -1, 1, 1, 1, 1, -1, 1, -1, -1, -1, 1, 1, -1, 1, 1, -1, -1, -1, 1, 1, 1, 1, 1, -1, 1, 1, -1, -1, -1, 1, -1, 1, 1, 1, 1, -1, 1, -1, -1, -1, 1, 1, -1, 1, -1, -1, -1, 1, 1, 1, 1, 1, -1, 1, 1, -1, -1, -1, 1, -1, 1, 1, 1, 1, -1, 1, -1, -1, -1, 1, 1, -1, 1, 1, 1, -1, -1, -1, -1, -1, 1, -1, -1, 1, 1, 1, -1, 1, -1, -1, -1, -1, 1, -1, 1, 1, 1, -1, -1, 1, -1, 1, -1, -1, -1, -1, -1, 1, -1, -1, 1, 1, 1, -1, 1, -1, -1, -1, -1, 1, -1, 1, 1, 1, -1, -1, 1, -1, -1, -1, -1, -1, -1, 1, -1, -1, 1, 1, 1, -1, 1, -1, -1, -1, -1, 1, -1, 1, 1, 1, -1, -1, 1, -1, 1, 1, 1, 1, -1, 1, 1, -1, -1, -1, 1, -1, 1, 1, 1, 1, -1, 1, -1, -1, -1, 1, 1, -1, 1, 1, 1, 1, -1, 1, 1, -1, -1, -1, 1, -1, 1, 1, 1, 1, -1, 1, -1, -1, -1, 1, 1, -1, 1, 1, 1, -1, 1, 1, -1, -1, -1, 1, -1, 1, 1, 1, 1, -1, 1, -1, -1, -1, 1, 1, -1, 1, 1, -1, 1, 1, -1, -1, -1, 1, -1, 1, 1, 1, 1, -1, 1, -1, -1, -1, 1, 1, -1, 1, -1, 1, 1, -1, -1, -1, 1, -1, 1, 1, 1, 1, -1, 1, -1, -1, -1, 1, 1, -1, 1, -1, -1, 1, 1, 1, -1, 1, -1, -1, -1, -1, 1, -1, 1, 1, 1, -1, -1, 1, -1, 1, -1, -1, -1, 1, -1, 1, 1, 1, 1, -1, 1, -1, -1, -1, 1, 1, -1, 1, -1, -1, -1, 1, -1, 1, 1, 1, 1, -1, 1, -1, -1, -1, 1, 1, -1, 1, 1, 1, -1, 1, -1, -1, -1, -1, 1, -1, 1, 1, 1, -1, -1, 1, -1, 1, -1, 1, -1, -1, -1, -1, 1, -1, 1, 1, 1, -1, -1, 1, -1, -1, 1, -1, -1, -1, -1, 1, -1, 1, 1, 1, -1, -1, 1, -1, -1, 1, 1, 1, 1, -1, 1, -1, -1, -1, 1, 1, -1, 1, -1, -1, -1, -1, 1, -1, 1, 1, 1, -1, -1, 1, -1, 1, 1, 1, -1, 1, -1, -1, -1, 1, 1, -1, 1, 1, 1, -1, 1, -1, -1, -1, 1, 1, -1, 1, 1, -1, 1, -1, -1, -1, 1, 1, -1, 1, -1, 1, -1, -1, -1, 1, 1, -1, 1, -1, 1, 1, 1, -1, -1, 1, -1, -1, -1, -1, 1, 1, -1, 1, 1, 1, -1, -1, 1, -1, 1, -1, -1, 1, -1, -1, -1, 1, -1, 1, -1, 1, -1, 1, -1]\n",
    "\n",
    "# df = pd.DataFrame(X_train)\n",
    "# result = df.apply(get_x_vector, axis=1)\n",
    "# result = result.apply(get_final_vector)\n",
    "\n",
    "# df1 = pd.DataFrame(X_test)\n",
    "# result1 = df1.apply(get_x_vector, axis=1)\n",
    "# result1 = result1.apply(get_final_vector)\n",
    "\n",
    "\n",
    "\n",
    "# Apply get_x_vector to each row of X_train\n",
    "result = np.apply_along_axis(get_x_vector, axis=1, arr=X_train)\n",
    "\n",
    "# Apply get_final_vector to each element of x_vector\n",
    "X_train_array = np.apply_along_axis(get_final_vector, axis=1, arr=result)\n",
    "\n",
    "\n",
    "# Apply get_x_vector to each row of X_train\n",
    "result1 = np.apply_along_axis(get_x_vector, axis=1, arr=X_test)\n",
    "\n",
    "# Apply get_final_vector to each element of x_vector\n",
    "X_test_array = np.apply_along_axis(get_final_vector, axis=1, arr=result1)\n",
    "\n",
    "model = LinearSVC(dual=0, C=2.6, tol=0.00015)\n",
    "model.fit(X_train_array, y_train)\n",
    "w = model.coef_.reshape((528,))\n",
    "b = model.intercept_\n",
    "\n",
    "\n",
    "train_accuracy = accuracy_score(y_train, model.predict(X_train_array))\n",
    "\n",
    "# Calculate accuracy on testing set\n",
    "test_accuracy = accuracy_score(y_test, model.predict(X_test_array))\n",
    "\n",
    "print(\"Training Accuracy:\", train_accuracy)\n",
    "print(\"Testing Accuracy:\", test_accuracy)"
   ]
  },
  {
   "cell_type": "code",
   "execution_count": null,
   "metadata": {},
   "outputs": [],
   "source": []
  }
 ],
 "metadata": {
  "kernelspec": {
   "display_name": "Python 3",
   "language": "python",
   "name": "python3"
  },
  "language_info": {
   "codemirror_mode": {
    "name": "ipython",
    "version": 3
   },
   "file_extension": ".py",
   "mimetype": "text/x-python",
   "name": "python",
   "nbconvert_exporter": "python",
   "pygments_lexer": "ipython3",
   "version": "undefined.undefined.undefined"
  }
 },
 "nbformat": 4,
 "nbformat_minor": 2
}
